{
 "cells": [
  {
   "cell_type": "markdown",
   "metadata": {},
   "source": [
    "## Fouled-off balls\n",
    "**What kinds of pitches are fouled off?**\n",
    "\n",
    "How do fouled-off pitches differ from called/swinging strikes, or other pitch outcomes?\n",
    "\n",
    "Is it possible to discern what types of pitches might get fouled off?\n",
    "\n",
    "We can using machine learning algorithms to to train a **pitch outcome classifier**, then see how that model performs on a set of previously-unseen pitches.\n",
    "\n",
    "What features might matter in determining whether a pitch is fouled off or not? We'll consider most of the features in the PITCHfx dataset, but I'd guess that some important features would be: Ball/strike count, pitch type, pitch location, pitch velocity, etc."
   ]
  },
  {
   "cell_type": "code",
   "execution_count": 26,
   "metadata": {
    "collapsed": false
   },
   "outputs": [],
   "source": [
    "# Import the necessary packages\n",
    "import pandas as pd\n",
    "import numpy as np\n",
    "from sklearn.model_selection import train_test_split\n",
    "from sklearn.ensemble import RandomForestClassifier\n",
    "from sklearn import preprocessing\n",
    "from sklearn.discriminant_analysis import LinearDiscriminantAnalysis\n",
    "from sklearn import metrics\n",
    "import matplotlib.pyplot as plt\n",
    "import seaborn as sns\n",
    "from ggplot import *\n",
    "%matplotlib inline"
   ]
  },
  {
   "cell_type": "code",
   "execution_count": 2,
   "metadata": {
    "collapsed": true
   },
   "outputs": [],
   "source": [
    "# PITCHfx data from 2016 Jun 1–3, parsed using the `pfx_parser_csv.py` script\n",
    "data = pd.read_csv('edited_pitch_table.csv')"
   ]
  },
  {
   "cell_type": "code",
   "execution_count": null,
   "metadata": {
    "collapsed": false
   },
   "outputs": [],
   "source": [
    "data.head()     # To see what the data looks like"
   ]
  },
  {
   "cell_type": "code",
   "execution_count": null,
   "metadata": {
    "collapsed": false
   },
   "outputs": [],
   "source": [
    "list(data)     # Returns all column headers"
   ]
  },
  {
   "cell_type": "code",
   "execution_count": null,
   "metadata": {
    "collapsed": false
   },
   "outputs": [],
   "source": [
    "data.shape\n",
    "# 64 features\n",
    "# 12,134 samples (pitches) in this three day period"
   ]
  },
  {
   "cell_type": "code",
   "execution_count": null,
   "metadata": {
    "collapsed": false
   },
   "outputs": [],
   "source": [
    "#Split dataset into fouls and not-fouls\n",
    "thefouls = data[data['pitch_res'] == 'F']\n",
    "notfouls = data[data['pitch_res'] != 'F']\n",
    "print('Fouls: ', thefouls.shape, 'Not Fouls: ', notfouls.shape)\n",
    "# 2050 pitches were fouled off, 10,084 were not fouled off, unbalanced dataset."
   ]
  },
  {
   "cell_type": "markdown",
   "metadata": {},
   "source": [
    "Possible approaches:\n",
    "1. Focus on fouled-off pitches, do K-means clustering do identify types of situations that lead to fouled-off pitches\n",
    "2. Try to classify pitches as fouled or not-fouled, then investigate feature importance\n",
    "\n",
    "The first approach is very interesting, but it ignores pitches that aren't fouled off, and so we don't get to see what's really distinct about fouled-off pitches.\n",
    "\n",
    "So I like the second approach. Let's use a classification algorithm, starting with Random forests, and train a model that distinguishes the features of fouled-off vs. not-fouled-off pitches."
   ]
  },
  {
   "cell_type": "markdown",
   "metadata": {},
   "source": [
    "### Encoding the categorical variables\n",
    "\n",
    "Several features are categorical, so they need to be encoded as 0/1s instead, for each possible value (that's the only input that these algorithms allow for)."
   ]
  },
  {
   "cell_type": "code",
   "execution_count": null,
   "metadata": {
    "collapsed": false
   },
   "outputs": [],
   "source": [
    "# Which features are categorical?\n",
    "X.dtypes\n",
    "# Pitcher hand, batter hand, pitch sequence, pitch type, pitch type sequence"
   ]
  },
  {
   "cell_type": "code",
   "execution_count": null,
   "metadata": {
    "collapsed": false
   },
   "outputs": [],
   "source": [
    "# Use pd.get_dummies() to encode these categorical variables\n",
    "catcols = ['pit_hand_cd', 'bat_hand_cd', 'pitch_type']\n",
    "hots = pd.get_dummies(data, columns=catcols, prefix = catcols)"
   ]
  },
  {
   "cell_type": "markdown",
   "metadata": {},
   "source": [
    "**Pitch sequence** (balls/strikes/etc.) **and pitch type sequence** (fastball/slider/etc.) **are VERY challenging to encode, since there's so many different possible sequences.** I'm going them leave them out of this analysis for now, even though they're undoubtedly critical to this problem.\n",
    "\n",
    "What could be done about them in future?\n",
    "\n",
    "Probably would involve something like a graph/network, or alternatively a much more enormous dataset. Either way, this is something worth keeping in mind and working on further."
   ]
  },
  {
   "cell_type": "code",
   "execution_count": 4,
   "metadata": {
    "collapsed": false
   },
   "outputs": [
    {
     "data": {
      "text/plain": [
       "(12114, 78)"
      ]
     },
     "execution_count": 4,
     "metadata": {},
     "output_type": "execute_result"
    }
   ],
   "source": [
    "# Some rows have missing values, so drop them\n",
    "hots = hots.dropna()\n",
    "hots.shape    # 20 samples dropped, due to the encoding, not sure why?"
   ]
  },
  {
   "cell_type": "code",
   "execution_count": 5,
   "metadata": {
    "collapsed": false
   },
   "outputs": [
    {
     "name": "stdout",
     "output_type": "stream",
     "text": [
      "X:  (12114, 52) y:  (12114,)\n"
     ]
    }
   ],
   "source": [
    "# Split data into X (pitch features) and y (pitch outcomes)\n",
    "y = hots['pitch_res']\n",
    "# X needs to exclude the old now-encoded columns, but also stuff like the gameID, teamIDs, etc...\n",
    "dropcols = [\n",
    "    'retro_game_id',\n",
    "    'year',\n",
    "    'st_fl',\n",
    "    'regseason_fl',\n",
    "    'playoffs_fl',\n",
    "    'game_type',\n",
    "    'game_type_des',\n",
    "    'game_id',\n",
    "    'home_team_id',\n",
    "    'home_team_lg',\n",
    "    'away_team_id',\n",
    "    'away_team_lg',\n",
    "    'interleague_fl',\n",
    "    'park_name',\n",
    "    'park_lock',\n",
    "    'pitch_seq',      # Too difficult to encode, unfortunately...\n",
    "    'pa_terminal_fl',\n",
    "    'pa_event_cd',\n",
    "    'pitch_res',\n",
    "    'pitch_des',\n",
    "    'pitch_id',\n",
    "    'pitch_type_seq',    # Too difficult to encode, unfortunately...\n",
    "    'sv_id',\n",
    "    'x', 'y',     # Older, less useful PitchFX features, now replaced by 'px' and 'pz'\n",
    "    'y0'          # Distance between the pitcher's release point and home plate, held constant by definition in the PitchFX data\n",
    "]\n",
    "X = hots.drop(dropcols, axis=1)\n",
    "print('X: ', X.shape, 'y: ', y.shape)"
   ]
  },
  {
   "cell_type": "code",
   "execution_count": 11,
   "metadata": {
    "collapsed": false
   },
   "outputs": [],
   "source": [
    "# Let's focus on pitches that are fouled-off, vs. all other pitches and their outcomes\n",
    "# Use pd.get_dummies() again to easily draw out the fouled-off pitches\n",
    "possres = list(set(y))\n",
    "outcomes = pd.get_dummies(y, columns=possres)\n",
    "fouls = outcomes['F']"
   ]
  },
  {
   "cell_type": "markdown",
   "metadata": {},
   "source": [
    "### Rebalancing the data\n",
    "\n",
    "Most pitches are NOT fouled off. A model that just predicts 'not-foul' for every single pitch would appear to be accurate at first glance, but of course is very faulty.\n",
    "\n",
    "So we'll have to **rebalance the data**. We could create a dataset with equal numbers of fouled-off and not-fouled off pitches, by creating duplicates and/or eliminating samples respectively.\n",
    "\n",
    "In this case, I don't feel comfortable with those approaches, so instead, we'll **apply weights to the pitch outcomes**. If the model accurately predicts a fouled-off pitch, that correct prediction is rewarded based on how scarce fouled-off pitches are. This is easily implemented in Scikit-learn's Random forest classification function."
   ]
  },
  {
   "cell_type": "code",
   "execution_count": 12,
   "metadata": {
    "collapsed": false
   },
   "outputs": [
    {
     "name": "stdout",
     "output_type": "stream",
     "text": [
      "4.917928676111383\n"
     ]
    }
   ],
   "source": [
    "'''\n",
    "IMPORTANT: Create sample weights to rebalance the data!\n",
    "Most pitches are NOT fouled off, and we don't want the model to guess\n",
    "'''\n",
    "numnotfoul = len(fouls[fouls == 0])\n",
    "numfoul = len(fouls[fouls == 1])\n",
    "coefweight = numnotfoul / numfoul\n",
    "print(coefweight)   # ~4.92x more not-fouls than fouls (will differ slightly with each train/test split)\n",
    "sampweight = fouls.replace(0, coefweight)    # Rather than 0/1, the outcomes are now 0/4.92"
   ]
  },
  {
   "cell_type": "code",
   "execution_count": 13,
   "metadata": {
    "collapsed": false
   },
   "outputs": [],
   "source": [
    "# Split the dataset into a training set for the model, and a later validation set\n",
    "X_train, X_test, y_train, y_test, samp_train, samp_test = train_test_split(X, fouls, sampweight, test_size=0.33, random_state=42)"
   ]
  },
  {
   "cell_type": "code",
   "execution_count": 14,
   "metadata": {
    "collapsed": false
   },
   "outputs": [
    {
     "data": {
      "text/plain": [
       "RandomForestClassifier(bootstrap=True, class_weight=None, criterion='gini',\n",
       "            max_depth=None, max_features='auto', max_leaf_nodes=None,\n",
       "            min_impurity_split=1e-07, min_samples_leaf=1,\n",
       "            min_samples_split=2, min_weight_fraction_leaf=0.0,\n",
       "            n_estimators=100, n_jobs=2, oob_score=True, random_state=None,\n",
       "            verbose=0, warm_start=False)"
      ]
     },
     "execution_count": 14,
     "metadata": {},
     "output_type": "execute_result"
    }
   ],
   "source": [
    "# Random Forest Classification on foul T/F\n",
    "foulforest = RandomForestClassifier(n_estimators=100, oob_score=True, n_jobs=2)\n",
    "foulforest.fit(X_train, y_train, sample_weight = samp_train.values)   # Sample weights applied"
   ]
  },
  {
   "cell_type": "code",
   "execution_count": 15,
   "metadata": {
    "collapsed": false
   },
   "outputs": [
    {
     "data": {
      "text/plain": [
       "0.94823952218953877"
      ]
     },
     "execution_count": 15,
     "metadata": {},
     "output_type": "execute_result"
    }
   ],
   "source": [
    "# Need to include sample weights when assessing accuracy too\n",
    "foulforest.score(X_test, y_test, sample_weight=samp_test.values)\n",
    "# accuracy of 0.95, pretty good!"
   ]
  },
  {
   "cell_type": "markdown",
   "metadata": {},
   "source": [
    "## Model accuracy\n",
    "\n",
    "**Our model is 95% accurate!** So our model correctly classifies pitches as being fouled-off or not-fouled off 95% of the time, weighted by the fact that fouled-off pitches are much less common.\n",
    "\n",
    "That weighting makes this somewhat tricky to interpret though, so let's look at a Receiving Operating Characteristic (ROC) curve, which shows how often the model makes a correct prediction for every wrong prediction made. This curve also gives us an Area Under the Curve (AUC) curve, which is a pretty standard way of evaluating the accuracy of models like this."
   ]
  },
  {
   "cell_type": "code",
   "execution_count": 30,
   "metadata": {
    "collapsed": false
   },
   "outputs": [
    {
     "name": "stdout",
     "output_type": "stream",
     "text": [
      "AUC:  0.709684141389\n"
     ]
    }
   ],
   "source": [
    "# Plot an ROC Curve, to visualize the accuracy\n",
    "# Generate predictions from the validation set's features\n",
    "preds = foulforest.predict_proba(X_test)[:,1]\n",
    "# Calculate the false positive and true positive rates, comparing the above predictions to the true values\n",
    "fpr, tpr, _ = metrics.roc_curve(y_test, preds)\n",
    "# Calculate the AUC (area under the curve) score\n",
    "auc = metrics.auc(fpr,tpr)\n",
    "print('AUC: ', auc)    # 0.71 is quite good!"
   ]
  },
  {
   "cell_type": "code",
   "execution_count": 28,
   "metadata": {
    "collapsed": false,
    "scrolled": true
   },
   "outputs": [
    {
     "data": {
      "image/png": "[encoded data removed]",
      "text/plain": [
       "<matplotlib.figure.Figure at 0x1153fda20>"
      ]
     },
     "metadata": {},
     "output_type": "display_data"
    },
    {
     "data": {
      "text/plain": [
       "<ggplot: (-9223372036564056986)>"
      ]
     },
     "execution_count": 28,
     "metadata": {},
     "output_type": "execute_result"
    }
   ],
   "source": [
    "# ROC Curve Plotting\n",
    "df = pd.DataFrame(dict(fpr=fpr, tpr=tpr))\n",
    "ggplot(df, aes(x='False Positive Rate', y='True Positive Rate')) +\\\n",
    "    geom_line() +\\\n",
    "    geom_abline(linetype='dashed') +\\\n",
    "    ggtitle('ROC Curve with AUC=%s' % str(auc))"
   ]
  },
  {
   "cell_type": "markdown",
   "metadata": {},
   "source": [
    "The bowed shape of the ROC curve shows that **this model is pretty good at predicting which pitches will be fouled off!** The AUC score of 0.71 is quite good for a problem such as this. The model certainly performs much better than a random guess (indicated by the straight dashed line).\n",
    "\n",
    "**So what features are important for determining whether a pitch is fouled off or not?** We can look into the results of our Random forest classifier to find out."
   ]
  },
  {
   "cell_type": "code",
   "execution_count": 16,
   "metadata": {
    "collapsed": false
   },
   "outputs": [
    {
     "data": {
      "text/html": [
       "<div>\n",
       "<table border=\"1\" class=\"dataframe\">\n",
       "  <thead>\n",
       "    <tr style=\"text-align: right;\">\n",
       "      <th></th>\n",
       "      <th>index</th>\n",
       "      <th>feature</th>\n",
       "      <th>importance</th>\n",
       "    </tr>\n",
       "  </thead>\n",
       "  <tbody>\n",
       "    <tr>\n",
       "      <th>19</th>\n",
       "      <td>19</td>\n",
       "      <td>pz</td>\n",
       "      <td>0.042262</td>\n",
       "    </tr>\n",
       "    <tr>\n",
       "      <th>18</th>\n",
       "      <td>18</td>\n",
       "      <td>px</td>\n",
       "      <td>0.040106</td>\n",
       "    </tr>\n",
       "    <tr>\n",
       "      <th>26</th>\n",
       "      <td>26</td>\n",
       "      <td>ay</td>\n",
       "      <td>0.039687</td>\n",
       "    </tr>\n",
       "    <tr>\n",
       "      <th>21</th>\n",
       "      <td>21</td>\n",
       "      <td>z0</td>\n",
       "      <td>0.039035</td>\n",
       "    </tr>\n",
       "    <tr>\n",
       "      <th>31</th>\n",
       "      <td>31</td>\n",
       "      <td>type_conf</td>\n",
       "      <td>0.037413</td>\n",
       "    </tr>\n",
       "    <tr>\n",
       "      <th>17</th>\n",
       "      <td>17</td>\n",
       "      <td>pfx_z</td>\n",
       "      <td>0.037287</td>\n",
       "    </tr>\n",
       "    <tr>\n",
       "      <th>22</th>\n",
       "      <td>22</td>\n",
       "      <td>vx0</td>\n",
       "      <td>0.036825</td>\n",
       "    </tr>\n",
       "    <tr>\n",
       "      <th>24</th>\n",
       "      <td>24</td>\n",
       "      <td>vz0</td>\n",
       "      <td>0.036011</td>\n",
       "    </tr>\n",
       "    <tr>\n",
       "      <th>34</th>\n",
       "      <td>34</td>\n",
       "      <td>spin_rate</td>\n",
       "      <td>0.035719</td>\n",
       "    </tr>\n",
       "    <tr>\n",
       "      <th>20</th>\n",
       "      <td>20</td>\n",
       "      <td>x0</td>\n",
       "      <td>0.035428</td>\n",
       "    </tr>\n",
       "    <tr>\n",
       "      <th>4</th>\n",
       "      <td>4</td>\n",
       "      <td>bat_id</td>\n",
       "      <td>0.034621</td>\n",
       "    </tr>\n",
       "    <tr>\n",
       "      <th>29</th>\n",
       "      <td>29</td>\n",
       "      <td>break_angle</td>\n",
       "      <td>0.034464</td>\n",
       "    </tr>\n",
       "    <tr>\n",
       "      <th>33</th>\n",
       "      <td>33</td>\n",
       "      <td>spin_dir</td>\n",
       "      <td>0.034183</td>\n",
       "    </tr>\n",
       "    <tr>\n",
       "      <th>23</th>\n",
       "      <td>23</td>\n",
       "      <td>vy0</td>\n",
       "      <td>0.034109</td>\n",
       "    </tr>\n",
       "    <tr>\n",
       "      <th>27</th>\n",
       "      <td>27</td>\n",
       "      <td>az</td>\n",
       "      <td>0.033265</td>\n",
       "    </tr>\n",
       "    <tr>\n",
       "      <th>3</th>\n",
       "      <td>3</td>\n",
       "      <td>pit_id</td>\n",
       "      <td>0.032494</td>\n",
       "    </tr>\n",
       "    <tr>\n",
       "      <th>11</th>\n",
       "      <td>11</td>\n",
       "      <td>ab_number</td>\n",
       "      <td>0.032477</td>\n",
       "    </tr>\n",
       "    <tr>\n",
       "      <th>16</th>\n",
       "      <td>16</td>\n",
       "      <td>pfx_x</td>\n",
       "      <td>0.032138</td>\n",
       "    </tr>\n",
       "    <tr>\n",
       "      <th>25</th>\n",
       "      <td>25</td>\n",
       "      <td>ax</td>\n",
       "      <td>0.031897</td>\n",
       "    </tr>\n",
       "    <tr>\n",
       "      <th>13</th>\n",
       "      <td>13</td>\n",
       "      <td>end_speed</td>\n",
       "      <td>0.031598</td>\n",
       "    </tr>\n",
       "    <tr>\n",
       "      <th>14</th>\n",
       "      <td>14</td>\n",
       "      <td>sz_top</td>\n",
       "      <td>0.031031</td>\n",
       "    </tr>\n",
       "    <tr>\n",
       "      <th>12</th>\n",
       "      <td>12</td>\n",
       "      <td>start_speed</td>\n",
       "      <td>0.030064</td>\n",
       "    </tr>\n",
       "    <tr>\n",
       "      <th>30</th>\n",
       "      <td>30</td>\n",
       "      <td>break_length</td>\n",
       "      <td>0.029012</td>\n",
       "    </tr>\n",
       "    <tr>\n",
       "      <th>15</th>\n",
       "      <td>15</td>\n",
       "      <td>sz_bot</td>\n",
       "      <td>0.027397</td>\n",
       "    </tr>\n",
       "    <tr>\n",
       "      <th>32</th>\n",
       "      <td>32</td>\n",
       "      <td>zone</td>\n",
       "      <td>0.025658</td>\n",
       "    </tr>\n",
       "    <tr>\n",
       "      <th>2</th>\n",
       "      <td>2</td>\n",
       "      <td>park_id</td>\n",
       "      <td>0.019560</td>\n",
       "    </tr>\n",
       "    <tr>\n",
       "      <th>0</th>\n",
       "      <td>0</td>\n",
       "      <td>inning</td>\n",
       "      <td>0.019208</td>\n",
       "    </tr>\n",
       "    <tr>\n",
       "      <th>9</th>\n",
       "      <td>9</td>\n",
       "      <td>end_bases_cd</td>\n",
       "      <td>0.012276</td>\n",
       "    </tr>\n",
       "    <tr>\n",
       "      <th>6</th>\n",
       "      <td>6</td>\n",
       "      <td>pa_strike_ct</td>\n",
       "      <td>0.011373</td>\n",
       "    </tr>\n",
       "    <tr>\n",
       "      <th>8</th>\n",
       "      <td>8</td>\n",
       "      <td>start_bases_cd</td>\n",
       "      <td>0.011234</td>\n",
       "    </tr>\n",
       "    <tr>\n",
       "      <th>5</th>\n",
       "      <td>5</td>\n",
       "      <td>pa_ball_ct</td>\n",
       "      <td>0.010753</td>\n",
       "    </tr>\n",
       "    <tr>\n",
       "      <th>28</th>\n",
       "      <td>28</td>\n",
       "      <td>break_y</td>\n",
       "      <td>0.008450</td>\n",
       "    </tr>\n",
       "    <tr>\n",
       "      <th>7</th>\n",
       "      <td>7</td>\n",
       "      <td>outs_ct</td>\n",
       "      <td>0.008145</td>\n",
       "    </tr>\n",
       "    <tr>\n",
       "      <th>10</th>\n",
       "      <td>10</td>\n",
       "      <td>event_outs_ct</td>\n",
       "      <td>0.006725</td>\n",
       "    </tr>\n",
       "    <tr>\n",
       "      <th>1</th>\n",
       "      <td>1</td>\n",
       "      <td>bat_home_id</td>\n",
       "      <td>0.004926</td>\n",
       "    </tr>\n",
       "    <tr>\n",
       "      <th>38</th>\n",
       "      <td>38</td>\n",
       "      <td>bat_hand_cd_R</td>\n",
       "      <td>0.004602</td>\n",
       "    </tr>\n",
       "    <tr>\n",
       "      <th>37</th>\n",
       "      <td>37</td>\n",
       "      <td>bat_hand_cd_L</td>\n",
       "      <td>0.004443</td>\n",
       "    </tr>\n",
       "    <tr>\n",
       "      <th>46</th>\n",
       "      <td>46</td>\n",
       "      <td>pitch_type_FT</td>\n",
       "      <td>0.003054</td>\n",
       "    </tr>\n",
       "    <tr>\n",
       "      <th>43</th>\n",
       "      <td>43</td>\n",
       "      <td>pitch_type_FF</td>\n",
       "      <td>0.002940</td>\n",
       "    </tr>\n",
       "    <tr>\n",
       "      <th>42</th>\n",
       "      <td>42</td>\n",
       "      <td>pitch_type_FC</td>\n",
       "      <td>0.002913</td>\n",
       "    </tr>\n",
       "    <tr>\n",
       "      <th>39</th>\n",
       "      <td>39</td>\n",
       "      <td>pitch_type_CH</td>\n",
       "      <td>0.002722</td>\n",
       "    </tr>\n",
       "    <tr>\n",
       "      <th>45</th>\n",
       "      <td>45</td>\n",
       "      <td>pitch_type_FS</td>\n",
       "      <td>0.002325</td>\n",
       "    </tr>\n",
       "    <tr>\n",
       "      <th>50</th>\n",
       "      <td>50</td>\n",
       "      <td>pitch_type_SI</td>\n",
       "      <td>0.002162</td>\n",
       "    </tr>\n",
       "    <tr>\n",
       "      <th>51</th>\n",
       "      <td>51</td>\n",
       "      <td>pitch_type_SL</td>\n",
       "      <td>0.002081</td>\n",
       "    </tr>\n",
       "    <tr>\n",
       "      <th>35</th>\n",
       "      <td>35</td>\n",
       "      <td>pit_hand_cd_L</td>\n",
       "      <td>0.001756</td>\n",
       "    </tr>\n",
       "    <tr>\n",
       "      <th>36</th>\n",
       "      <td>36</td>\n",
       "      <td>pit_hand_cd_R</td>\n",
       "      <td>0.001742</td>\n",
       "    </tr>\n",
       "    <tr>\n",
       "      <th>48</th>\n",
       "      <td>48</td>\n",
       "      <td>pitch_type_KC</td>\n",
       "      <td>0.000924</td>\n",
       "    </tr>\n",
       "    <tr>\n",
       "      <th>40</th>\n",
       "      <td>40</td>\n",
       "      <td>pitch_type_CU</td>\n",
       "      <td>0.000842</td>\n",
       "    </tr>\n",
       "    <tr>\n",
       "      <th>49</th>\n",
       "      <td>49</td>\n",
       "      <td>pitch_type_KN</td>\n",
       "      <td>0.000337</td>\n",
       "    </tr>\n",
       "    <tr>\n",
       "      <th>44</th>\n",
       "      <td>44</td>\n",
       "      <td>pitch_type_FO</td>\n",
       "      <td>0.000230</td>\n",
       "    </tr>\n",
       "    <tr>\n",
       "      <th>41</th>\n",
       "      <td>41</td>\n",
       "      <td>pitch_type_EP</td>\n",
       "      <td>0.000083</td>\n",
       "    </tr>\n",
       "    <tr>\n",
       "      <th>47</th>\n",
       "      <td>47</td>\n",
       "      <td>pitch_type_IN</td>\n",
       "      <td>0.000014</td>\n",
       "    </tr>\n",
       "  </tbody>\n",
       "</table>\n",
       "</div>"
      ],
      "text/plain": [
       "    index         feature  importance\n",
       "19     19              pz    0.042262\n",
       "18     18              px    0.040106\n",
       "26     26              ay    0.039687\n",
       "21     21              z0    0.039035\n",
       "31     31       type_conf    0.037413\n",
       "17     17           pfx_z    0.037287\n",
       "22     22             vx0    0.036825\n",
       "24     24             vz0    0.036011\n",
       "34     34       spin_rate    0.035719\n",
       "20     20              x0    0.035428\n",
       "4       4          bat_id    0.034621\n",
       "29     29     break_angle    0.034464\n",
       "33     33        spin_dir    0.034183\n",
       "23     23             vy0    0.034109\n",
       "27     27              az    0.033265\n",
       "3       3          pit_id    0.032494\n",
       "11     11       ab_number    0.032477\n",
       "16     16           pfx_x    0.032138\n",
       "25     25              ax    0.031897\n",
       "13     13       end_speed    0.031598\n",
       "14     14          sz_top    0.031031\n",
       "12     12     start_speed    0.030064\n",
       "30     30    break_length    0.029012\n",
       "15     15          sz_bot    0.027397\n",
       "32     32            zone    0.025658\n",
       "2       2         park_id    0.019560\n",
       "0       0          inning    0.019208\n",
       "9       9    end_bases_cd    0.012276\n",
       "6       6    pa_strike_ct    0.011373\n",
       "8       8  start_bases_cd    0.011234\n",
       "5       5      pa_ball_ct    0.010753\n",
       "28     28         break_y    0.008450\n",
       "7       7         outs_ct    0.008145\n",
       "10     10   event_outs_ct    0.006725\n",
       "1       1     bat_home_id    0.004926\n",
       "38     38   bat_hand_cd_R    0.004602\n",
       "37     37   bat_hand_cd_L    0.004443\n",
       "46     46   pitch_type_FT    0.003054\n",
       "43     43   pitch_type_FF    0.002940\n",
       "42     42   pitch_type_FC    0.002913\n",
       "39     39   pitch_type_CH    0.002722\n",
       "45     45   pitch_type_FS    0.002325\n",
       "50     50   pitch_type_SI    0.002162\n",
       "51     51   pitch_type_SL    0.002081\n",
       "35     35   pit_hand_cd_L    0.001756\n",
       "36     36   pit_hand_cd_R    0.001742\n",
       "48     48   pitch_type_KC    0.000924\n",
       "40     40   pitch_type_CU    0.000842\n",
       "49     49   pitch_type_KN    0.000337\n",
       "44     44   pitch_type_FO    0.000230\n",
       "41     41   pitch_type_EP    0.000083\n",
       "47     47   pitch_type_IN    0.000014"
      ]
     },
     "execution_count": 16,
     "metadata": {},
     "output_type": "execute_result"
    }
   ],
   "source": [
    "# Feature importances\n",
    "colsX = pd.Series(X_test.columns.values)    # Grab names of the features\n",
    "# Bring together feature names, and their importances in the model\n",
    "imps = pd.concat([colsX, pd.Series(foulforest.feature_importances_)], axis=1).reset_index()\n",
    "imps.columns = ['index', 'feature', 'importance']\n",
    "imps.sort_values(by='importance', ascending=0)   # Sorted by importance"
   ]
  },
  {
   "cell_type": "markdown",
   "metadata": {},
   "source": [
    "At the top, we find 'px' and 'pz', which represent the pitch location as it crosses the plate! **However, none of the individual features stand out as being especially strong at determining the pitch outcome.** Instead, it's the entirety of the pitch's features that, as a whole, affect the pitch outcome, rather than any one individual feature.\n",
    "\n",
    "At the bottom of this list though, we do see that pitch types (fastball, slider, etc.) don't seem to matter too much, which is interesting. This is true across both common and rare pitch types."
   ]
  },
  {
   "cell_type": "markdown",
   "metadata": {},
   "source": [
    "## Random forest classification: foul T/F\n",
    "\n",
    "The model seems pretty accurate as classifying pitches as fouls or not-fouls!\n",
    "\n",
    "However, the feature importance is not terribly informative. Location seems to matter to a small degree (px/pz).\n",
    "\n",
    "It may help to delve into how each individual feature affects these pitch outcomes, but I wouldn't anticipate strong patterns. It seems like pitch outcomes can only be predicted based on a broad picture of all the features of a pitch, rather than any individual features.\n",
    "\n",
    "**The importance of 'type_conf' is really interesting to me.** That feature is PITCHfx's own confidence in classifying that pitch's type (Slider, Curveball, etc.). While that seems purely technical, **perhaps that confidence affects batters as well**, and their ability to react properly or make good contact. Would like to look into this more as well.\n",
    "\n",
    "And as mentioned earlier, it would be worthwhile to explore ways of encoding pitch sequences and pitch type sequences, but that is a difficult problem, to leave for later.\n",
    "\n",
    "Even without them though, **we've successfully built a model that accurately predicts whether a pitch will be fouled off or not!**"
   ]
  }
 ],
 "metadata": {
  "kernelspec": {
   "display_name": "Python 3",
   "language": "python",
   "name": "python3"
  },
  "language_info": {
   "codemirror_mode": {
    "name": "ipython",
    "version": 3
   },
   "file_extension": ".py",
   "mimetype": "text/x-python",
   "name": "python",
   "nbconvert_exporter": "python",
   "pygments_lexer": "ipython3",
   "version": "3.5.2"
  }
 },
 "nbformat": 4,
 "nbformat_minor": 1
}
